{
  "nbformat": 4,
  "nbformat_minor": 0,
  "metadata": {
    "colab": {
      "provenance": [],
      "authorship_tag": "ABX9TyPCThxSRUggO0bDTZDaz7/O",
      "include_colab_link": true
    },
    "kernelspec": {
      "name": "python3",
      "display_name": "Python 3"
    },
    "language_info": {
      "name": "python"
    }
  },
  "cells": [
    {
      "cell_type": "markdown",
      "metadata": {
        "id": "view-in-github",
        "colab_type": "text"
      },
      "source": [
        "<a href=\"https://colab.research.google.com/github/Ajits1998/Statistics/blob/main/central_limit_theorem_python_impplementation_.ipynb\" target=\"_parent\"><img src=\"https://colab.research.google.com/assets/colab-badge.svg\" alt=\"Open In Colab\"/></a>"
      ]
    },
    {
      "cell_type": "code",
      "execution_count": 1,
      "metadata": {
        "id": "pXcYppCAv6pJ"
      },
      "outputs": [],
      "source": [
        "import pandas as pd"
      ]
    },
    {
      "cell_type": "code",
      "source": [
        "data=pd.read_csv(r\"/all_seasons[1].csv\")"
      ],
      "metadata": {
        "id": "KDhIUgRZwaOG"
      },
      "execution_count": 2,
      "outputs": []
    },
    {
      "cell_type": "code",
      "source": [
        "data"
      ],
      "metadata": {
        "colab": {
          "base_uri": "https://localhost:8080/",
          "height": 696
        },
        "id": "UnoPgvOewd0s",
        "outputId": "6df58242-0e0d-4337-db6b-79130077aa28"
      },
      "execution_count": 3,
      "outputs": [
        {
          "output_type": "execute_result",
          "data": {
            "text/plain": [
              "       Unnamed: 0        player_name team_abbreviation   age  player_height  \\\n",
              "0               0      Dennis Rodman               CHI  36.0         198.12   \n",
              "1               1  Dwayne Schintzius               LAC  28.0         215.90   \n",
              "2               2       Earl Cureton               TOR  39.0         205.74   \n",
              "3               3        Ed O'Bannon               DAL  24.0         203.20   \n",
              "4               4        Ed Pinckney               MIA  34.0         205.74   \n",
              "...           ...                ...               ...   ...            ...   \n",
              "12300       12300    Markieff Morris               MIA  32.0         205.74   \n",
              "12301       12301     Markelle Fultz               ORL  24.0         193.04   \n",
              "12302       12302       Marcus Smart               BOS  28.0         193.04   \n",
              "12303       12303     Marcus Garrett               MIA  23.0         195.58   \n",
              "12304       12304       Micah Potter               DET  24.0         208.28   \n",
              "\n",
              "       player_weight                      college country draft_year  \\\n",
              "0          99.790240  Southeastern Oklahoma State     USA       1986   \n",
              "1         117.933920                      Florida     USA       1990   \n",
              "2          95.254320                Detroit Mercy     USA       1979   \n",
              "3         100.697424                         UCLA     USA       1995   \n",
              "4         108.862080                    Villanova     USA       1985   \n",
              "...              ...                          ...     ...        ...   \n",
              "12300     111.130040                       Kansas     USA       2011   \n",
              "12301      94.800728                   Washington     USA       2017   \n",
              "12302      99.790240               Oklahoma State     USA       2014   \n",
              "12303      92.986360                       Kansas     USA  Undrafted   \n",
              "12304     112.490816                    Wisconsin     USA  Undrafted   \n",
              "\n",
              "      draft_round  ...   pts   reb  ast  net_rating  oreb_pct  dreb_pct  \\\n",
              "0               2  ...   5.7  16.1  3.1        16.1     0.186     0.323   \n",
              "1               1  ...   2.3   1.5  0.3        12.3     0.078     0.151   \n",
              "2               3  ...   0.8   1.0  0.4        -2.1     0.105     0.102   \n",
              "3               1  ...   3.7   2.3  0.6        -8.7     0.060     0.149   \n",
              "4               1  ...   2.4   2.4  0.2       -11.2     0.109     0.179   \n",
              "...           ...  ...   ...   ...  ...         ...       ...       ...   \n",
              "12300           1  ...   7.6   2.6  1.4         4.5     0.059     0.089   \n",
              "12301           1  ...  10.8   2.7  5.5        -5.3     0.010     0.116   \n",
              "12302           1  ...  12.1   3.8  5.9         9.3     0.018     0.093   \n",
              "12303   Undrafted  ...   1.1   1.9  0.6         5.8     0.072     0.108   \n",
              "12304   Undrafted  ...   4.0   3.0  0.0       -56.4     0.095     0.125   \n",
              "\n",
              "       usg_pct  ts_pct  ast_pct   season  \n",
              "0        0.100   0.479    0.113  1996-97  \n",
              "1        0.175   0.430    0.048  1996-97  \n",
              "2        0.103   0.376    0.148  1996-97  \n",
              "3        0.167   0.399    0.077  1996-97  \n",
              "4        0.127   0.611    0.040  1996-97  \n",
              "...        ...     ...      ...      ...  \n",
              "12300    0.197   0.547    0.116  2021-22  \n",
              "12301    0.265   0.517    0.448  2021-22  \n",
              "12302    0.179   0.540    0.245  2021-22  \n",
              "12303    0.086   0.280    0.069  2021-22  \n",
              "12304    0.148   0.505    0.000  2021-22  \n",
              "\n",
              "[12305 rows x 22 columns]"
            ],
            "text/html": [
              "\n",
              "  <div id=\"df-87935faf-4c5d-4e64-a73f-e2dd9eafd8da\">\n",
              "    <div class=\"colab-df-container\">\n",
              "      <div>\n",
              "<style scoped>\n",
              "    .dataframe tbody tr th:only-of-type {\n",
              "        vertical-align: middle;\n",
              "    }\n",
              "\n",
              "    .dataframe tbody tr th {\n",
              "        vertical-align: top;\n",
              "    }\n",
              "\n",
              "    .dataframe thead th {\n",
              "        text-align: right;\n",
              "    }\n",
              "</style>\n",
              "<table border=\"1\" class=\"dataframe\">\n",
              "  <thead>\n",
              "    <tr style=\"text-align: right;\">\n",
              "      <th></th>\n",
              "      <th>Unnamed: 0</th>\n",
              "      <th>player_name</th>\n",
              "      <th>team_abbreviation</th>\n",
              "      <th>age</th>\n",
              "      <th>player_height</th>\n",
              "      <th>player_weight</th>\n",
              "      <th>college</th>\n",
              "      <th>country</th>\n",
              "      <th>draft_year</th>\n",
              "      <th>draft_round</th>\n",
              "      <th>...</th>\n",
              "      <th>pts</th>\n",
              "      <th>reb</th>\n",
              "      <th>ast</th>\n",
              "      <th>net_rating</th>\n",
              "      <th>oreb_pct</th>\n",
              "      <th>dreb_pct</th>\n",
              "      <th>usg_pct</th>\n",
              "      <th>ts_pct</th>\n",
              "      <th>ast_pct</th>\n",
              "      <th>season</th>\n",
              "    </tr>\n",
              "  </thead>\n",
              "  <tbody>\n",
              "    <tr>\n",
              "      <th>0</th>\n",
              "      <td>0</td>\n",
              "      <td>Dennis Rodman</td>\n",
              "      <td>CHI</td>\n",
              "      <td>36.0</td>\n",
              "      <td>198.12</td>\n",
              "      <td>99.790240</td>\n",
              "      <td>Southeastern Oklahoma State</td>\n",
              "      <td>USA</td>\n",
              "      <td>1986</td>\n",
              "      <td>2</td>\n",
              "      <td>...</td>\n",
              "      <td>5.7</td>\n",
              "      <td>16.1</td>\n",
              "      <td>3.1</td>\n",
              "      <td>16.1</td>\n",
              "      <td>0.186</td>\n",
              "      <td>0.323</td>\n",
              "      <td>0.100</td>\n",
              "      <td>0.479</td>\n",
              "      <td>0.113</td>\n",
              "      <td>1996-97</td>\n",
              "    </tr>\n",
              "    <tr>\n",
              "      <th>1</th>\n",
              "      <td>1</td>\n",
              "      <td>Dwayne Schintzius</td>\n",
              "      <td>LAC</td>\n",
              "      <td>28.0</td>\n",
              "      <td>215.90</td>\n",
              "      <td>117.933920</td>\n",
              "      <td>Florida</td>\n",
              "      <td>USA</td>\n",
              "      <td>1990</td>\n",
              "      <td>1</td>\n",
              "      <td>...</td>\n",
              "      <td>2.3</td>\n",
              "      <td>1.5</td>\n",
              "      <td>0.3</td>\n",
              "      <td>12.3</td>\n",
              "      <td>0.078</td>\n",
              "      <td>0.151</td>\n",
              "      <td>0.175</td>\n",
              "      <td>0.430</td>\n",
              "      <td>0.048</td>\n",
              "      <td>1996-97</td>\n",
              "    </tr>\n",
              "    <tr>\n",
              "      <th>2</th>\n",
              "      <td>2</td>\n",
              "      <td>Earl Cureton</td>\n",
              "      <td>TOR</td>\n",
              "      <td>39.0</td>\n",
              "      <td>205.74</td>\n",
              "      <td>95.254320</td>\n",
              "      <td>Detroit Mercy</td>\n",
              "      <td>USA</td>\n",
              "      <td>1979</td>\n",
              "      <td>3</td>\n",
              "      <td>...</td>\n",
              "      <td>0.8</td>\n",
              "      <td>1.0</td>\n",
              "      <td>0.4</td>\n",
              "      <td>-2.1</td>\n",
              "      <td>0.105</td>\n",
              "      <td>0.102</td>\n",
              "      <td>0.103</td>\n",
              "      <td>0.376</td>\n",
              "      <td>0.148</td>\n",
              "      <td>1996-97</td>\n",
              "    </tr>\n",
              "    <tr>\n",
              "      <th>3</th>\n",
              "      <td>3</td>\n",
              "      <td>Ed O'Bannon</td>\n",
              "      <td>DAL</td>\n",
              "      <td>24.0</td>\n",
              "      <td>203.20</td>\n",
              "      <td>100.697424</td>\n",
              "      <td>UCLA</td>\n",
              "      <td>USA</td>\n",
              "      <td>1995</td>\n",
              "      <td>1</td>\n",
              "      <td>...</td>\n",
              "      <td>3.7</td>\n",
              "      <td>2.3</td>\n",
              "      <td>0.6</td>\n",
              "      <td>-8.7</td>\n",
              "      <td>0.060</td>\n",
              "      <td>0.149</td>\n",
              "      <td>0.167</td>\n",
              "      <td>0.399</td>\n",
              "      <td>0.077</td>\n",
              "      <td>1996-97</td>\n",
              "    </tr>\n",
              "    <tr>\n",
              "      <th>4</th>\n",
              "      <td>4</td>\n",
              "      <td>Ed Pinckney</td>\n",
              "      <td>MIA</td>\n",
              "      <td>34.0</td>\n",
              "      <td>205.74</td>\n",
              "      <td>108.862080</td>\n",
              "      <td>Villanova</td>\n",
              "      <td>USA</td>\n",
              "      <td>1985</td>\n",
              "      <td>1</td>\n",
              "      <td>...</td>\n",
              "      <td>2.4</td>\n",
              "      <td>2.4</td>\n",
              "      <td>0.2</td>\n",
              "      <td>-11.2</td>\n",
              "      <td>0.109</td>\n",
              "      <td>0.179</td>\n",
              "      <td>0.127</td>\n",
              "      <td>0.611</td>\n",
              "      <td>0.040</td>\n",
              "      <td>1996-97</td>\n",
              "    </tr>\n",
              "    <tr>\n",
              "      <th>...</th>\n",
              "      <td>...</td>\n",
              "      <td>...</td>\n",
              "      <td>...</td>\n",
              "      <td>...</td>\n",
              "      <td>...</td>\n",
              "      <td>...</td>\n",
              "      <td>...</td>\n",
              "      <td>...</td>\n",
              "      <td>...</td>\n",
              "      <td>...</td>\n",
              "      <td>...</td>\n",
              "      <td>...</td>\n",
              "      <td>...</td>\n",
              "      <td>...</td>\n",
              "      <td>...</td>\n",
              "      <td>...</td>\n",
              "      <td>...</td>\n",
              "      <td>...</td>\n",
              "      <td>...</td>\n",
              "      <td>...</td>\n",
              "      <td>...</td>\n",
              "    </tr>\n",
              "    <tr>\n",
              "      <th>12300</th>\n",
              "      <td>12300</td>\n",
              "      <td>Markieff Morris</td>\n",
              "      <td>MIA</td>\n",
              "      <td>32.0</td>\n",
              "      <td>205.74</td>\n",
              "      <td>111.130040</td>\n",
              "      <td>Kansas</td>\n",
              "      <td>USA</td>\n",
              "      <td>2011</td>\n",
              "      <td>1</td>\n",
              "      <td>...</td>\n",
              "      <td>7.6</td>\n",
              "      <td>2.6</td>\n",
              "      <td>1.4</td>\n",
              "      <td>4.5</td>\n",
              "      <td>0.059</td>\n",
              "      <td>0.089</td>\n",
              "      <td>0.197</td>\n",
              "      <td>0.547</td>\n",
              "      <td>0.116</td>\n",
              "      <td>2021-22</td>\n",
              "    </tr>\n",
              "    <tr>\n",
              "      <th>12301</th>\n",
              "      <td>12301</td>\n",
              "      <td>Markelle Fultz</td>\n",
              "      <td>ORL</td>\n",
              "      <td>24.0</td>\n",
              "      <td>193.04</td>\n",
              "      <td>94.800728</td>\n",
              "      <td>Washington</td>\n",
              "      <td>USA</td>\n",
              "      <td>2017</td>\n",
              "      <td>1</td>\n",
              "      <td>...</td>\n",
              "      <td>10.8</td>\n",
              "      <td>2.7</td>\n",
              "      <td>5.5</td>\n",
              "      <td>-5.3</td>\n",
              "      <td>0.010</td>\n",
              "      <td>0.116</td>\n",
              "      <td>0.265</td>\n",
              "      <td>0.517</td>\n",
              "      <td>0.448</td>\n",
              "      <td>2021-22</td>\n",
              "    </tr>\n",
              "    <tr>\n",
              "      <th>12302</th>\n",
              "      <td>12302</td>\n",
              "      <td>Marcus Smart</td>\n",
              "      <td>BOS</td>\n",
              "      <td>28.0</td>\n",
              "      <td>193.04</td>\n",
              "      <td>99.790240</td>\n",
              "      <td>Oklahoma State</td>\n",
              "      <td>USA</td>\n",
              "      <td>2014</td>\n",
              "      <td>1</td>\n",
              "      <td>...</td>\n",
              "      <td>12.1</td>\n",
              "      <td>3.8</td>\n",
              "      <td>5.9</td>\n",
              "      <td>9.3</td>\n",
              "      <td>0.018</td>\n",
              "      <td>0.093</td>\n",
              "      <td>0.179</td>\n",
              "      <td>0.540</td>\n",
              "      <td>0.245</td>\n",
              "      <td>2021-22</td>\n",
              "    </tr>\n",
              "    <tr>\n",
              "      <th>12303</th>\n",
              "      <td>12303</td>\n",
              "      <td>Marcus Garrett</td>\n",
              "      <td>MIA</td>\n",
              "      <td>23.0</td>\n",
              "      <td>195.58</td>\n",
              "      <td>92.986360</td>\n",
              "      <td>Kansas</td>\n",
              "      <td>USA</td>\n",
              "      <td>Undrafted</td>\n",
              "      <td>Undrafted</td>\n",
              "      <td>...</td>\n",
              "      <td>1.1</td>\n",
              "      <td>1.9</td>\n",
              "      <td>0.6</td>\n",
              "      <td>5.8</td>\n",
              "      <td>0.072</td>\n",
              "      <td>0.108</td>\n",
              "      <td>0.086</td>\n",
              "      <td>0.280</td>\n",
              "      <td>0.069</td>\n",
              "      <td>2021-22</td>\n",
              "    </tr>\n",
              "    <tr>\n",
              "      <th>12304</th>\n",
              "      <td>12304</td>\n",
              "      <td>Micah Potter</td>\n",
              "      <td>DET</td>\n",
              "      <td>24.0</td>\n",
              "      <td>208.28</td>\n",
              "      <td>112.490816</td>\n",
              "      <td>Wisconsin</td>\n",
              "      <td>USA</td>\n",
              "      <td>Undrafted</td>\n",
              "      <td>Undrafted</td>\n",
              "      <td>...</td>\n",
              "      <td>4.0</td>\n",
              "      <td>3.0</td>\n",
              "      <td>0.0</td>\n",
              "      <td>-56.4</td>\n",
              "      <td>0.095</td>\n",
              "      <td>0.125</td>\n",
              "      <td>0.148</td>\n",
              "      <td>0.505</td>\n",
              "      <td>0.000</td>\n",
              "      <td>2021-22</td>\n",
              "    </tr>\n",
              "  </tbody>\n",
              "</table>\n",
              "<p>12305 rows × 22 columns</p>\n",
              "</div>\n",
              "      <button class=\"colab-df-convert\" onclick=\"convertToInteractive('df-87935faf-4c5d-4e64-a73f-e2dd9eafd8da')\"\n",
              "              title=\"Convert this dataframe to an interactive table.\"\n",
              "              style=\"display:none;\">\n",
              "        \n",
              "  <svg xmlns=\"http://www.w3.org/2000/svg\" height=\"24px\"viewBox=\"0 0 24 24\"\n",
              "       width=\"24px\">\n",
              "    <path d=\"M0 0h24v24H0V0z\" fill=\"none\"/>\n",
              "    <path d=\"M18.56 5.44l.94 2.06.94-2.06 2.06-.94-2.06-.94-.94-2.06-.94 2.06-2.06.94zm-11 1L8.5 8.5l.94-2.06 2.06-.94-2.06-.94L8.5 2.5l-.94 2.06-2.06.94zm10 10l.94 2.06.94-2.06 2.06-.94-2.06-.94-.94-2.06-.94 2.06-2.06.94z\"/><path d=\"M17.41 7.96l-1.37-1.37c-.4-.4-.92-.59-1.43-.59-.52 0-1.04.2-1.43.59L10.3 9.45l-7.72 7.72c-.78.78-.78 2.05 0 2.83L4 21.41c.39.39.9.59 1.41.59.51 0 1.02-.2 1.41-.59l7.78-7.78 2.81-2.81c.8-.78.8-2.07 0-2.86zM5.41 20L4 18.59l7.72-7.72 1.47 1.35L5.41 20z\"/>\n",
              "  </svg>\n",
              "      </button>\n",
              "      \n",
              "  <style>\n",
              "    .colab-df-container {\n",
              "      display:flex;\n",
              "      flex-wrap:wrap;\n",
              "      gap: 12px;\n",
              "    }\n",
              "\n",
              "    .colab-df-convert {\n",
              "      background-color: #E8F0FE;\n",
              "      border: none;\n",
              "      border-radius: 50%;\n",
              "      cursor: pointer;\n",
              "      display: none;\n",
              "      fill: #1967D2;\n",
              "      height: 32px;\n",
              "      padding: 0 0 0 0;\n",
              "      width: 32px;\n",
              "    }\n",
              "\n",
              "    .colab-df-convert:hover {\n",
              "      background-color: #E2EBFA;\n",
              "      box-shadow: 0px 1px 2px rgba(60, 64, 67, 0.3), 0px 1px 3px 1px rgba(60, 64, 67, 0.15);\n",
              "      fill: #174EA6;\n",
              "    }\n",
              "\n",
              "    [theme=dark] .colab-df-convert {\n",
              "      background-color: #3B4455;\n",
              "      fill: #D2E3FC;\n",
              "    }\n",
              "\n",
              "    [theme=dark] .colab-df-convert:hover {\n",
              "      background-color: #434B5C;\n",
              "      box-shadow: 0px 1px 3px 1px rgba(0, 0, 0, 0.15);\n",
              "      filter: drop-shadow(0px 1px 2px rgba(0, 0, 0, 0.3));\n",
              "      fill: #FFFFFF;\n",
              "    }\n",
              "  </style>\n",
              "\n",
              "      <script>\n",
              "        const buttonEl =\n",
              "          document.querySelector('#df-87935faf-4c5d-4e64-a73f-e2dd9eafd8da button.colab-df-convert');\n",
              "        buttonEl.style.display =\n",
              "          google.colab.kernel.accessAllowed ? 'block' : 'none';\n",
              "\n",
              "        async function convertToInteractive(key) {\n",
              "          const element = document.querySelector('#df-87935faf-4c5d-4e64-a73f-e2dd9eafd8da');\n",
              "          const dataTable =\n",
              "            await google.colab.kernel.invokeFunction('convertToInteractive',\n",
              "                                                     [key], {});\n",
              "          if (!dataTable) return;\n",
              "\n",
              "          const docLinkHtml = 'Like what you see? Visit the ' +\n",
              "            '<a target=\"_blank\" href=https://colab.research.google.com/notebooks/data_table.ipynb>data table notebook</a>'\n",
              "            + ' to learn more about interactive tables.';\n",
              "          element.innerHTML = '';\n",
              "          dataTable['output_type'] = 'display_data';\n",
              "          await google.colab.output.renderOutput(dataTable, element);\n",
              "          const docLink = document.createElement('div');\n",
              "          docLink.innerHTML = docLinkHtml;\n",
              "          element.appendChild(docLink);\n",
              "        }\n",
              "      </script>\n",
              "    </div>\n",
              "  </div>\n",
              "  "
            ]
          },
          "metadata": {},
          "execution_count": 3
        }
      ]
    },
    {
      "cell_type": "code",
      "source": [
        "\n",
        "import warnings\n",
        "warnings.filterwarnings(\"ignore\")\n",
        "import pandas as pd, numpy as np\n",
        "import matplotlib.pyplot as plt, seaborn as sns\n",
        "import scipy.stats as stats\n",
        "np.random.seed(42) # With the seed, same set of numbers will appear every time.\n"
      ],
      "metadata": {
        "id": "wCdGrQ_2wegs"
      },
      "execution_count": 6,
      "outputs": []
    },
    {
      "cell_type": "code",
      "source": [
        "import seaborn as sns"
      ],
      "metadata": {
        "id": "bqNPZMZD6Gm9"
      },
      "execution_count": 7,
      "outputs": []
    },
    {
      "cell_type": "code",
      "source": [
        "sns.distplot(data['player_height'], kde = True, color ='blue', bins = 30)"
      ],
      "metadata": {
        "colab": {
          "base_uri": "https://localhost:8080/",
          "height": 297
        },
        "id": "KwLOfwe85blY",
        "outputId": "d9e19716-8245-49e1-8db2-5a9be842af17"
      },
      "execution_count": 11,
      "outputs": [
        {
          "output_type": "execute_result",
          "data": {
            "text/plain": [
              "<matplotlib.axes._subplots.AxesSubplot at 0x7f79ef607cd0>"
            ]
          },
          "metadata": {},
          "execution_count": 11
        },
        {
          "output_type": "display_data",
          "data": {
            "text/plain": [
              "<Figure size 432x288 with 1 Axes>"
            ],
            "image/png": "[encoded data removed]"
          },
          "metadata": {
            "needs_background": "light"
          }
        }
      ]
    },
    {
      "cell_type": "code",
      "source": [
        "data.player_height.mean()"
      ],
      "metadata": {
        "colab": {
          "base_uri": "https://localhost:8080/"
        },
        "id": "4d3fEzSm6RJa",
        "outputId": "5c75b49a-d739-497e-b1ad-4f416a353433"
      },
      "execution_count": 13,
      "outputs": [
        {
          "output_type": "execute_result",
          "data": {
            "text/plain": [
              "200.61160178789112"
            ]
          },
          "metadata": {},
          "execution_count": 13
        }
      ]
    },
    {
      "cell_type": "code",
      "source": [
        "data.player_height.std()"
      ],
      "metadata": {
        "colab": {
          "base_uri": "https://localhost:8080/"
        },
        "id": "mPfNyz6p6sgb",
        "outputId": "d0b2a633-4bbf-4610-d73d-26478b8ea5af"
      },
      "execution_count": 14,
      "outputs": [
        {
          "output_type": "execute_result",
          "data": {
            "text/plain": [
              "9.146320529958091"
            ]
          },
          "metadata": {},
          "execution_count": 14
        }
      ]
    },
    {
      "cell_type": "code",
      "source": [
        "data.player_height.sample(samp_size).std()"
      ],
      "metadata": {
        "colab": {
          "base_uri": "https://localhost:8080/"
        },
        "id": "OobAmBZu8PvR",
        "outputId": "bd1a5383-7651-49b0-a11b-1279c3d0cb17"
      },
      "execution_count": 18,
      "outputs": [
        {
          "output_type": "execute_result",
          "data": {
            "text/plain": [
              "8.911453588358707"
            ]
          },
          "metadata": {},
          "execution_count": 18
        }
      ]
    },
    {
      "cell_type": "code",
      "source": [
        "data.player_height.sample(samp_size).mean()"
      ],
      "metadata": {
        "colab": {
          "base_uri": "https://localhost:8080/"
        },
        "id": "7Fxap6ciEIJd",
        "outputId": "94588a0d-f519-423b-ef68-708b9d0e2b09"
      },
      "execution_count": 22,
      "outputs": [
        {
          "output_type": "execute_result",
          "data": {
            "text/plain": [
              "201.5913333333333"
            ]
          },
          "metadata": {},
          "execution_count": 22
        }
      ]
    },
    {
      "cell_type": "code",
      "source": [
        "sample_means = [data.player_height.sample(samp_size).mean() for i in range(1000)];\n",
        "sample_means = pd.Series(sample_means)"
      ],
      "metadata": {
        "id": "1BKW0sQ26xW0"
      },
      "execution_count": 20,
      "outputs": []
    },
    {
      "cell_type": "code",
      "source": [
        "sns.distplot(sample_means)\n",
        "plt.show()"
      ],
      "metadata": {
        "colab": {
          "base_uri": "https://localhost:8080/",
          "height": 265
        },
        "id": "28RPmQHT8zvw",
        "outputId": "0d48103b-3063-47fd-aab5-57454895a4e9"
      },
      "execution_count": 21,
      "outputs": [
        {
          "output_type": "display_data",
          "data": {
            "text/plain": [
              "<Figure size 432x288 with 1 Axes>"
            ],
            "image/png": "[encoded data removed]"
          },
          "metadata": {
            "needs_background": "light"
          }
        }
      ]
    },
    {
      "cell_type": "code",
      "source": [],
      "metadata": {
        "id": "zvoNVC1v87c7"
      },
      "execution_count": null,
      "outputs": []
    },
    {
      "cell_type": "markdown",
      "source": [
        "here the mean height of whole population is **200.6116**\n",
        "and  population standard deviation  is **9.1463**\n",
        "if we take sample of size 30 then sample mean of these 30  samples will be approximately equal to population mean which is **198.2046**\n",
        "\n"
      ],
      "metadata": {
        "id": "OALcNWLWB55T"
      }
    }
  ]
}